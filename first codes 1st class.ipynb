{
 "cells": [
  {
   "cell_type": "code",
   "execution_count": 1,
   "id": "8bf9dc79",
   "metadata": {},
   "outputs": [],
   "source": [
    "import keyword"
   ]
  },
  {
   "cell_type": "code",
   "execution_count": 2,
   "id": "8330237d",
   "metadata": {},
   "outputs": [
    {
     "name": "stdout",
     "output_type": "stream",
     "text": [
      "['False', 'None', 'True', '__peg_parser__', 'and', 'as', 'assert', 'async', 'await', 'break', 'class', 'continue', 'def', 'del', 'elif', 'else', 'except', 'finally', 'for', 'from', 'global', 'if', 'import', 'in', 'is', 'lambda', 'nonlocal', 'not', 'or', 'pass', 'raise', 'return', 'try', 'while', 'with', 'yield']\n"
     ]
    }
   ],
   "source": [
    "print (keyword.kwlist)"
   ]
  },
  {
   "cell_type": "code",
   "execution_count": 4,
   "id": "1a2d643f",
   "metadata": {},
   "outputs": [
    {
     "data": {
      "text/plain": [
       "False"
      ]
     },
     "execution_count": 4,
     "metadata": {},
     "output_type": "execute_result"
    }
   ],
   "source": [
    "True and False"
   ]
  },
  {
   "cell_type": "code",
   "execution_count": 5,
   "id": "ebab4065",
   "metadata": {},
   "outputs": [
    {
     "data": {
      "text/plain": [
       "True"
      ]
     },
     "execution_count": 5,
     "metadata": {},
     "output_type": "execute_result"
    }
   ],
   "source": [
    "True or False"
   ]
  },
  {
   "cell_type": "code",
   "execution_count": 6,
   "id": "b0303739",
   "metadata": {},
   "outputs": [
    {
     "data": {
      "text/plain": [
       "False"
      ]
     },
     "execution_count": 6,
     "metadata": {},
     "output_type": "execute_result"
    }
   ],
   "source": [
    "not True"
   ]
  },
  {
   "cell_type": "code",
   "execution_count": 7,
   "id": "ba92f63d",
   "metadata": {},
   "outputs": [
    {
     "data": {
      "text/plain": [
       "False"
      ]
     },
     "execution_count": 7,
     "metadata": {},
     "output_type": "execute_result"
    }
   ],
   "source": [
    "True is False"
   ]
  },
  {
   "cell_type": "code",
   "execution_count": 8,
   "id": "14ebb969",
   "metadata": {},
   "outputs": [
    {
     "data": {
      "text/plain": [
       "True"
      ]
     },
     "execution_count": 8,
     "metadata": {},
     "output_type": "execute_result"
    }
   ],
   "source": [
    "True is True"
   ]
  },
  {
   "cell_type": "code",
   "execution_count": 11,
   "id": "c6423996",
   "metadata": {},
   "outputs": [],
   "source": [
    "# data is a compination of numbers and letters#"
   ]
  },
  {
   "cell_type": "code",
   "execution_count": 18,
   "id": "454f363d",
   "metadata": {},
   "outputs": [
    {
     "name": "stderr",
     "output_type": "stream",
     "text": [
      "<>:1: SyntaxWarning: \"is\" with a literal. Did you mean \"==\"?\n",
      "<>:1: SyntaxWarning: \"is\" with a literal. Did you mean \"==\"?\n",
      "C:\\Users\\Arun\\AppData\\Local\\Temp/ipykernel_14044/100162287.py:1: SyntaxWarning: \"is\" with a literal. Did you mean \"==\"?\n",
      "  10 is 11\n"
     ]
    },
    {
     "data": {
      "text/plain": [
       "False"
      ]
     },
     "execution_count": 18,
     "metadata": {},
     "output_type": "execute_result"
    }
   ],
   "source": [
    "10 is 11"
   ]
  },
  {
   "cell_type": "code",
   "execution_count": 19,
   "id": "3611dc8c",
   "metadata": {},
   "outputs": [
    {
     "name": "stderr",
     "output_type": "stream",
     "text": [
      "<>:1: SyntaxWarning: \"is\" with a literal. Did you mean \"==\"?\n",
      "<>:1: SyntaxWarning: \"is\" with a literal. Did you mean \"==\"?\n",
      "C:\\Users\\Arun\\AppData\\Local\\Temp/ipykernel_14044/1659915539.py:1: SyntaxWarning: \"is\" with a literal. Did you mean \"==\"?\n",
      "  10 is 10\n"
     ]
    },
    {
     "data": {
      "text/plain": [
       "True"
      ]
     },
     "execution_count": 19,
     "metadata": {},
     "output_type": "execute_result"
    }
   ],
   "source": [
    "10 is 10 "
   ]
  },
  {
   "cell_type": "code",
   "execution_count": 20,
   "id": "d14e0d00",
   "metadata": {},
   "outputs": [
    {
     "data": {
      "text/plain": [
       "2"
      ]
     },
     "execution_count": 20,
     "metadata": {},
     "output_type": "execute_result"
    }
   ],
   "source": [
    "True + True"
   ]
  },
  {
   "cell_type": "code",
   "execution_count": 21,
   "id": "14a67cd2",
   "metadata": {},
   "outputs": [
    {
     "data": {
      "text/plain": [
       "1"
      ]
     },
     "execution_count": 21,
     "metadata": {},
     "output_type": "execute_result"
    }
   ],
   "source": [
    "True + False"
   ]
  },
  {
   "cell_type": "code",
   "execution_count": 22,
   "id": "4df2a22e",
   "metadata": {},
   "outputs": [
    {
     "data": {
      "text/plain": [
       "0"
      ]
     },
     "execution_count": 22,
     "metadata": {},
     "output_type": "execute_result"
    }
   ],
   "source": [
    "False + False"
   ]
  },
  {
   "cell_type": "code",
   "execution_count": 23,
   "id": "28178dd3",
   "metadata": {},
   "outputs": [
    {
     "data": {
      "text/plain": [
       "1"
      ]
     },
     "execution_count": 23,
     "metadata": {},
     "output_type": "execute_result"
    }
   ],
   "source": [
    "True - False"
   ]
  },
  {
   "cell_type": "code",
   "execution_count": 24,
   "id": "a2489f27",
   "metadata": {},
   "outputs": [
    {
     "data": {
      "text/plain": [
       "False"
      ]
     },
     "execution_count": 24,
     "metadata": {},
     "output_type": "execute_result"
    }
   ],
   "source": [
    "8 == 9"
   ]
  },
  {
   "cell_type": "code",
   "execution_count": 25,
   "id": "ff56a868",
   "metadata": {},
   "outputs": [
    {
     "data": {
      "text/plain": [
       "True"
      ]
     },
     "execution_count": 25,
     "metadata": {},
     "output_type": "execute_result"
    }
   ],
   "source": [
    "10 ==10"
   ]
  },
  {
   "cell_type": "code",
   "execution_count": 26,
   "id": "53256720",
   "metadata": {},
   "outputs": [],
   "source": [
    "# '==' is used to compair left and right handside data#"
   ]
  },
  {
   "cell_type": "code",
   "execution_count": 27,
   "id": "2e72c5d8",
   "metadata": {},
   "outputs": [
    {
     "data": {
      "text/plain": [
       "True"
      ]
     },
     "execution_count": 27,
     "metadata": {},
     "output_type": "execute_result"
    }
   ],
   "source": [
    "True and False or True"
   ]
  },
  {
   "cell_type": "code",
   "execution_count": 28,
   "id": "37dffe42",
   "metadata": {},
   "outputs": [],
   "source": [
    "# *Data types|Structuers*#"
   ]
  },
  {
   "cell_type": "code",
   "execution_count": 31,
   "id": "34e9e74c",
   "metadata": {},
   "outputs": [],
   "source": [
    "# Numbers, String, list, Tuple, Set, Dictionary #\n"
   ]
  },
  {
   "cell_type": "code",
   "execution_count": 34,
   "id": "4f310bfb",
   "metadata": {},
   "outputs": [],
   "source": [
    "# NUMBERS# (integers (int))"
   ]
  },
  {
   "cell_type": "code",
   "execution_count": 36,
   "id": "85cbaed6",
   "metadata": {},
   "outputs": [],
   "source": [
    "# Variables and data assignment \n",
    "# a = variable\n",
    "# 20 = data\n",
    "a = 20"
   ]
  },
  {
   "cell_type": "code",
   "execution_count": 37,
   "id": "2305a9e1",
   "metadata": {},
   "outputs": [
    {
     "data": {
      "text/plain": [
       "20"
      ]
     },
     "execution_count": 37,
     "metadata": {},
     "output_type": "execute_result"
    }
   ],
   "source": [
    "a"
   ]
  },
  {
   "cell_type": "code",
   "execution_count": 42,
   "id": "cc6332c3",
   "metadata": {},
   "outputs": [
    {
     "name": "stdout",
     "output_type": "stream",
     "text": [
      "20\n"
     ]
    }
   ],
   "source": [
    "# variable is where the data is stored\n",
    "#cannot use keyword as variable name\n",
    "#variable starts with letters \n",
    "# you can also print explicity (recomended)\n",
    "print (a)"
   ]
  },
  {
   "cell_type": "code",
   "execution_count": 43,
   "id": "98d7e2c0",
   "metadata": {},
   "outputs": [],
   "source": [
    "#How to check the data type?#"
   ]
  },
  {
   "cell_type": "code",
   "execution_count": 44,
   "id": "dbec97c0",
   "metadata": {},
   "outputs": [
    {
     "data": {
      "text/plain": [
       "int"
      ]
     },
     "execution_count": 44,
     "metadata": {},
     "output_type": "execute_result"
    }
   ],
   "source": [
    "type (a)"
   ]
  },
  {
   "cell_type": "code",
   "execution_count": 46,
   "id": "dd2d2661",
   "metadata": {},
   "outputs": [],
   "source": [
    "#Float#"
   ]
  },
  {
   "cell_type": "code",
   "execution_count": 47,
   "id": "fc1f126c",
   "metadata": {},
   "outputs": [],
   "source": [
    "# you can assing, print and check datatype in the same cell#"
   ]
  },
  {
   "cell_type": "code",
   "execution_count": 48,
   "id": "e70f215d",
   "metadata": {},
   "outputs": [
    {
     "name": "stdout",
     "output_type": "stream",
     "text": [
      "20.0\n"
     ]
    },
    {
     "data": {
      "text/plain": [
       "float"
      ]
     },
     "execution_count": 48,
     "metadata": {},
     "output_type": "execute_result"
    }
   ],
   "source": [
    "b= 20.0\n",
    "print (b)\n",
    "type (b)"
   ]
  },
  {
   "cell_type": "code",
   "execution_count": 49,
   "id": "fb5d55e0",
   "metadata": {},
   "outputs": [],
   "source": [
    "# LETS do a couple of Mathamatical Operations"
   ]
  },
  {
   "cell_type": "code",
   "execution_count": 50,
   "id": "9070be2e",
   "metadata": {},
   "outputs": [
    {
     "name": "stdout",
     "output_type": "stream",
     "text": [
      "30\n"
     ]
    }
   ],
   "source": [
    "a=10\n",
    "b=20\n",
    "c= a+b\n",
    "print (c)"
   ]
  },
  {
   "cell_type": "code",
   "execution_count": 51,
   "id": "41818359",
   "metadata": {},
   "outputs": [
    {
     "name": "stdout",
     "output_type": "stream",
     "text": [
      "300\n"
     ]
    }
   ],
   "source": [
    "print (c*10)"
   ]
  },
  {
   "cell_type": "code",
   "execution_count": 52,
   "id": "0098ac88",
   "metadata": {},
   "outputs": [],
   "source": [
    "#Complex (we dont use this in our course)"
   ]
  },
  {
   "cell_type": "code",
   "execution_count": 53,
   "id": "3661766d",
   "metadata": {},
   "outputs": [
    {
     "data": {
      "text/plain": [
       "complex"
      ]
     },
     "execution_count": 53,
     "metadata": {},
     "output_type": "execute_result"
    }
   ],
   "source": [
    "c=6+2j\n",
    "type (c)"
   ]
  },
  {
   "cell_type": "code",
   "execution_count": 54,
   "id": "1bcbb3e0",
   "metadata": {},
   "outputs": [],
   "source": [
    "#String#"
   ]
  },
  {
   "cell_type": "code",
   "execution_count": 55,
   "id": "ce293dce",
   "metadata": {},
   "outputs": [
    {
     "name": "stdout",
     "output_type": "stream",
     "text": [
      "Hello world\n"
     ]
    }
   ],
   "source": [
    "print (\"Hello world\")"
   ]
  },
  {
   "cell_type": "code",
   "execution_count": 58,
   "id": "ea3a8978",
   "metadata": {},
   "outputs": [],
   "source": [
    "First_string = 'Phython'\n",
    "Secound_string  = 'is a powerfull'\n",
    "third_string ='language'\n"
   ]
  },
  {
   "cell_type": "code",
   "execution_count": 59,
   "id": "3356a15f",
   "metadata": {},
   "outputs": [
    {
     "data": {
      "text/plain": [
       "str"
      ]
     },
     "execution_count": 59,
     "metadata": {},
     "output_type": "execute_result"
    }
   ],
   "source": [
    "type(First_string)"
   ]
  },
  {
   "cell_type": "code",
   "execution_count": 60,
   "id": "3e87960b",
   "metadata": {},
   "outputs": [],
   "source": [
    "#lets add the strings "
   ]
  },
  {
   "cell_type": "code",
   "execution_count": 65,
   "id": "e6523ed1",
   "metadata": {},
   "outputs": [
    {
     "name": "stdout",
     "output_type": "stream",
     "text": [
      "Phythonis a powerfulllanguage\n"
     ]
    }
   ],
   "source": [
    "print(First_string + Secound_string + third_string)"
   ]
  },
  {
   "cell_type": "code",
   "execution_count": 69,
   "id": "6a256a24",
   "metadata": {},
   "outputs": [
    {
     "name": "stdout",
     "output_type": "stream",
     "text": [
      "WowwPhython is, easy\n"
     ]
    }
   ],
   "source": [
    "print('Woww'+ 'Phython is, easy')"
   ]
  },
  {
   "cell_type": "code",
   "execution_count": null,
   "id": "8e95eb2b",
   "metadata": {},
   "outputs": [],
   "source": []
  }
 ],
 "metadata": {
  "kernelspec": {
   "display_name": "Python 3 (ipykernel)",
   "language": "python",
   "name": "python3"
  },
  "language_info": {
   "codemirror_mode": {
    "name": "ipython",
    "version": 3
   },
   "file_extension": ".py",
   "mimetype": "text/x-python",
   "name": "python",
   "nbconvert_exporter": "python",
   "pygments_lexer": "ipython3",
   "version": "3.9.7"
  }
 },
 "nbformat": 4,
 "nbformat_minor": 5
}
